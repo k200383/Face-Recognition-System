{
 "cells": [
  {
   "cell_type": "code",
   "execution_count": 5,
   "metadata": {},
   "outputs": [],
   "source": [
    "# datasetPath = r\"E:\\Semester 6\\AI\\Datasets\\2\\Original Images\"\n",
    "datasetPath = r\"face recognition 2\\Original Images\"\n",
    "# image = r\"E:\\Semester 6\\AI\\Datasets\\2\\Original Images\\Original Images\\Akshay Kumar\\Akshay Kumar_1.jpg\""
   ]
  },
  {
   "cell_type": "code",
   "execution_count": 6,
   "metadata": {
    "colab": {
     "base_uri": "https://localhost:8080/"
    },
    "id": "MDi-oHXW04O4",
    "outputId": "90b01186-a4a2-4c48-e89e-8d481a04372c"
   },
   "outputs": [],
   "source": [
    "# from google.colab import drive\n",
    "# drive.mount('/content/drive')"
   ]
  },
  {
   "cell_type": "code",
   "execution_count": null,
   "metadata": {
    "colab": {
     "base_uri": "https://localhost:8080/"
    },
    "id": "B_HgpnzoW5hD",
    "outputId": "0210e1c4-d628-4af5-d3a2-c2f550fcca63"
   },
   "outputs": [],
   "source": [
    "!pip install mtcnn"
   ]
  },
  {
   "cell_type": "code",
   "execution_count": null,
   "metadata": {},
   "outputs": [],
   "source": [
    "pip install tensorflow"
   ]
  },
  {
   "cell_type": "code",
   "execution_count": null,
   "metadata": {},
   "outputs": [],
   "source": [
    "pip install matplotlib"
   ]
  },
  {
   "cell_type": "code",
   "execution_count": 10,
   "metadata": {
    "id": "v01UXOI-W59S"
   },
   "outputs": [],
   "source": [
    "import os\n",
    "import tensorflow as tf\n",
    "import cv2 as cv\n",
    "import matplotlib.pyplot as plt\n",
    "import numpy as np\n",
    "\n",
    "os.environ['TF_CPP_MIN_LOG_LEVEL'] = '2'"
   ]
  },
  {
   "cell_type": "code",
   "execution_count": 11,
   "metadata": {
    "id": "_bqgLHLAZ9l3"
   },
   "outputs": [],
   "source": [
    "# img = cv.imread(\"/content/drive/MyDrives/AI Proj/face recognition/Face Data/Face Dataset/0/0.jpg\")\n",
    "# img = cv.imread(\"/content/drive/MyDrive/AI Project Dataset/0/0.jpg\")\n",
    "image = r\"face recognition 2\\Original Images\\Akshay Kumar\\Akshay Kumar_1.jpg\"\n",
    "inputImage = cv.imread(image)\n",
    "# inputImage = cv.imread(\"/content/drive/MyDrive/AI Proj/face recognition 2/Original Images/Akshay Kumar/Akshay Kumar_1.jpg\")"
   ]
  },
  {
   "cell_type": "code",
   "execution_count": null,
   "metadata": {
    "colab": {
     "base_uri": "https://localhost:8080/",
     "height": 453
    },
    "id": "jNbWWYY6cMi7",
    "outputId": "3c3d5e26-ce2e-41dd-c5d3-45a240e9a7a6"
   },
   "outputs": [],
   "source": [
    "inputImage = cv.cvtColor(inputImage, cv.COLOR_BGR2RGB)\n",
    "plt.imshow(inputImage) #changed to RGB bcz openCV works on RGB"
   ]
  },
  {
   "cell_type": "code",
   "execution_count": null,
   "metadata": {
    "colab": {
     "base_uri": "https://localhost:8080/"
    },
    "id": "LZKzsc4JhLS6",
    "outputId": "53db5c6d-9610-4056-e375-e0ec19d5a40f"
   },
   "outputs": [],
   "source": [
    "from mtcnn.mtcnn import MTCNN\n",
    "\n",
    "imageDetector = MTCNN()\n",
    "firstResults = imageDetector.detect_faces(inputImage)"
   ]
  },
  {
   "cell_type": "code",
   "execution_count": null,
   "metadata": {
    "colab": {
     "base_uri": "https://localhost:8080/"
    },
    "id": "XibifAm8xy2N",
    "outputId": "184e1298-add3-4366-d114-9b59a3ad7b86"
   },
   "outputs": [],
   "source": [
    "firstResults"
   ]
  },
  {
   "cell_type": "code",
   "execution_count": 15,
   "metadata": {
    "id": "3Hua1I5Xx3Ft"
   },
   "outputs": [],
   "source": [
    "i, j, k, l= firstResults[0]['box'] #only need box x,y,w,h "
   ]
  },
  {
   "cell_type": "code",
   "execution_count": null,
   "metadata": {
    "colab": {
     "base_uri": "https://localhost:8080/",
     "height": 453
    },
    "id": "W1gxNFpLx4zb",
    "outputId": "ea32bb7b-1e2d-4ac0-b287-1718ec433edb"
   },
   "outputs": [],
   "source": [
    "inputImage = cv.rectangle(inputImage, (i,j), (i+k, j+l), (255,255,0), 30)\n",
    "plt.imshow(inputImage)"
   ]
  },
  {
   "cell_type": "code",
   "execution_count": null,
   "metadata": {
    "colab": {
     "base_uri": "https://localhost:8080/",
     "height": 452
    },
    "id": "elIT9qYQx62v",
    "outputId": "857abe4e-a7ab-4226-ed63-cf67204c99f0"
   },
   "outputs": [],
   "source": [
    "firstFace = inputImage[j:j+l, i:i+k]\n",
    "firstFace = cv.resize(firstFace, (160,160)) # as Facenet needs input in 160x160 \n",
    "plt.imshow(firstFace)"
   ]
  },
  {
   "cell_type": "code",
   "execution_count": null,
   "metadata": {
    "colab": {
     "base_uri": "https://localhost:8080/"
    },
    "id": "nATnQovCyBRQ",
    "outputId": "17b646ed-6551-4b21-cf91-3d11935c535e"
   },
   "outputs": [],
   "source": [
    "firstFace"
   ]
  },
  {
   "cell_type": "markdown",
   "metadata": {
    "id": "C25YSJ8YyIk-"
   },
   "source": [
    "##Automating the preprocessing of the image: \n",
    "Input image, BGR to RGB, resizing, rectangle box around face"
   ]
  },
  {
   "cell_type": "code",
   "execution_count": 19,
   "metadata": {
    "id": "qtXLF74KyLPM"
   },
   "outputs": [],
   "source": [
    "class AutomaticLoadingFace:\n",
    "        #putting all images in x array and all labels in y array\n",
    "    def __init__(self, folder):  \n",
    "        self.folder = folder\n",
    "        self.targetSize = (160,160)\n",
    "        self.xaxis = []\n",
    "        self.yaxis = []\n",
    "        self.imageDetector = MTCNN()\n",
    "    \n",
    "\n",
    "    def extractFace(self, file):\n",
    "        inputImage = cv.imread(file)\n",
    "        inputImage = cv.cvtColor(inputImage, cv.COLOR_BGR2RGB)\n",
    "        i, j, k, l = self.imageDetector.detect_faces(inputImage)[0]['box']\n",
    "        i, j = abs(i), abs(j)\n",
    "        firstFace = inputImage[j:j+l, i:i+k]\n",
    "        firstFaceArray = cv.resize(firstFace, self.targetSize)\n",
    "        return firstFaceArray\n",
    "    \n",
    "\n",
    "    def loadFaces(self, directory):\n",
    "        FACES = []\n",
    "        for iterator in os.listdir(directory):\n",
    "            try:\n",
    "                path = directory + iterator\n",
    "                singleFace = self.extractFace(path)\n",
    "                FACES.append(singleFace)\n",
    "            except Exception as e:\n",
    "                pass\n",
    "        return FACES\n",
    "\n",
    "    def loadClasses(self):\n",
    "        for subDirectory in os.listdir(self.folder):\n",
    "            path = self.folder +'/'+ subDirectory+'/'\n",
    "            FACES = self.loadFaces(path)\n",
    "            imageLabels = [subDirectory for _ in range(len(FACES))]\n",
    "            print(f\"Loaded successfully: {len(imageLabels)}\")\n",
    "            self.xaxis.extend(FACES)\n",
    "            self.yaxis.extend(imageLabels)\n",
    "        \n",
    "        return np.asarray(self.xaxis), np.asarray(self.yaxis)\n",
    "\n",
    "\n",
    "    def plotImages(self):\n",
    "        plt.figure(figsize=(18,16))\n",
    "        for number, iImage in enumerate(self.xaxis):\n",
    "            noOfCols = 3\n",
    "            noOfRows = len(self.yaxis)//noOfCols + 1\n",
    "            plt.subplot(noOfRows, noOfCols, number+1)\n",
    "            plt.imshow(iImage)\n",
    "            plt.axis('off')"
   ]
  },
  {
   "cell_type": "code",
   "execution_count": null,
   "metadata": {},
   "outputs": [],
   "source": [
    "# faceloading = FACELOADING(\"/content/drive/MyDrive/AI Proj/face recognition 2\")\n",
    "# f = r\"E:\\Semester 6\\AI\\Datasets\\2\\Original Images\\Original Images\"\n",
    "f = r\"face recognition 2\\Original Images\"\n",
    "faceLoading = AutomaticLoadingFace(f)\n",
    "xaxis, yaxis = faceLoading.loadClasses()"
   ]
  },
  {
   "cell_type": "code",
   "execution_count": null,
   "metadata": {
    "colab": {
     "base_uri": "https://localhost:8080/"
    },
    "id": "-w4Yx8ncyFaf",
    "outputId": "9b241c9a-f2d3-4ece-cbf3-3254fcaf5456"
   },
   "outputs": [],
   "source": [
    "# # faceloading = FACELOADING(\"/content/drive/MyDrive/AI Proj/face recognition 2\")\n",
    "# # f = r\"E:\\Semester 6\\AI\\Datasets\\2\\Original Images\\Original Images\"\n",
    "# f = r\"face recognition 2\\Original Images\"\n",
    "# faceLoading = AutomaticLoadingFace(f)\n",
    "# xaxis, yaxis = faceLoading.loadClasses()"
   ]
  },
  {
   "cell_type": "code",
   "execution_count": null,
   "metadata": {
    "colab": {
     "base_uri": "https://localhost:8080/",
     "height": 241
    },
    "id": "pPI71OWOzga9",
    "outputId": "a60798f8-4828-4604-a749-be1384f7b97a"
   },
   "outputs": [],
   "source": [
    "# plt.figure(figsize=(144, 144))\n",
    "\n",
    "plt.figure(figsize=(216, 216))\n",
    "for number, iImage in enumerate(xaxis):\n",
    "    noOfCols = 31\n",
    "    noOfRows = len(yaxis)//noOfCols + 1\n",
    "    plt.subplot(noOfRows, noOfCols, number+1)\n",
    "    plt.imshow(iImage)\n",
    "    plt.axis('off')"
   ]
  },
  {
   "cell_type": "markdown",
   "metadata": {
    "id": "_GQmX5gi2vKt"
   },
   "source": [
    "##FAMMA-FaceNet\n"
   ]
  },
  {
   "cell_type": "code",
   "execution_count": null,
   "metadata": {
    "id": "4uWfuQgs1VdX"
   },
   "outputs": [],
   "source": [
    "!pip install keras-facenet"
   ]
  },
  {
   "cell_type": "code",
   "execution_count": 27,
   "metadata": {
    "id": "qW3hFUOUDp1C"
   },
   "outputs": [],
   "source": [
    "from keras_facenet import FaceNet\n",
    "imageEmbedder = FaceNet()\n",
    "\n",
    "def getEmbedding(faceImage):\n",
    "  faceImage = faceImage.astype(\"float32\") #3Dimensional(160x160x3)\n",
    "  faceImage = np.expand_dims(faceImage, axis=0) #need 4Dimensional(Nonex160x160x3)\n",
    "  oneFace = imageEmbedder.embeddings(faceImage)\n",
    "  return oneFace[0] #will return 512D image (1x1x512)\n"
   ]
  },
  {
   "cell_type": "code",
   "execution_count": null,
   "metadata": {
    "id": "xA8SebZzEkH_"
   },
   "outputs": [],
   "source": [
    "embeddedX = []\n",
    "for ik in xaxis:\n",
    "  embeddedX.append(getEmbedding(ik))\n",
    "\n",
    "embeddedX = np.asarray(embeddedX)"
   ]
  },
  {
   "cell_type": "code",
   "execution_count": 30,
   "metadata": {
    "id": "UCIM7lJ5Dzfs"
   },
   "outputs": [],
   "source": [
    "np.savez_compressed('EmbeddingsForFaceImages.npz', embeddedX, yaxis)"
   ]
  },
  {
   "cell_type": "markdown",
   "metadata": {
    "id": "dH-JkXTc64BM"
   },
   "source": [
    "#SVM model\n",
    "compare 512dimesional arrays to each other and how theyre working"
   ]
  },
  {
   "cell_type": "code",
   "execution_count": null,
   "metadata": {},
   "outputs": [],
   "source": [
    "pip install -U scikit-learn"
   ]
  },
  {
   "cell_type": "code",
   "execution_count": 32,
   "metadata": {
    "id": "4IFwMo9fDWgB"
   },
   "outputs": [],
   "source": [
    "# yaxis #checking\n",
    "\n",
    "from sklearn.preprocessing import LabelEncoder\n",
    "\n",
    "encodingLabels = LabelEncoder()\n",
    "encodingLabels.fit(yaxis)\n",
    "yaxis = encodingLabels.transform(yaxis)"
   ]
  },
  {
   "cell_type": "code",
   "execution_count": null,
   "metadata": {},
   "outputs": [],
   "source": [
    "plt.plot(embeddedX[0]) \n",
    "plt.ylabel(yaxis[0])"
   ]
  },
  {
   "cell_type": "code",
   "execution_count": null,
   "metadata": {
    "id": "lBr6y515D4lN"
   },
   "outputs": [],
   "source": [
    "yaxis"
   ]
  },
  {
   "cell_type": "code",
   "execution_count": 35,
   "metadata": {
    "id": "UQKNMB1m62Eh"
   },
   "outputs": [],
   "source": [
    "from sklearn.model_selection import train_test_split\n",
    "trainX, testX, trainY, testY = train_test_split(embeddedX, yaxis, shuffle=True, random_state=17)\n",
    "#shuffling so it doesnt just train on face of 1 person"
   ]
  },
  {
   "cell_type": "code",
   "execution_count": null,
   "metadata": {
    "id": "87o0DE6wEHzt"
   },
   "outputs": [],
   "source": [
    "from sklearn.svm import SVC\n",
    "model = SVC(kernel='linear', probability=True)\n",
    "model.fit(trainX, trainY)"
   ]
  },
  {
   "cell_type": "code",
   "execution_count": 37,
   "metadata": {
    "id": "eoQLq0HzEbnx"
   },
   "outputs": [],
   "source": [
    "YPredictTrain = model.predict(trainX)\n",
    "YPredictTest = model.predict(testX)"
   ]
  },
  {
   "cell_type": "code",
   "execution_count": null,
   "metadata": {
    "id": "mzE9SYp4Epe4"
   },
   "outputs": [],
   "source": [
    "from sklearn.metrics import accuracy_score\n",
    "\n",
    "accuracy_score(trainY, YPredictTrain)"
   ]
  },
  {
   "cell_type": "code",
   "execution_count": null,
   "metadata": {
    "id": "fPQ01s00FTvz"
   },
   "outputs": [],
   "source": [
    "accuracy_score(testY, YPredictTest)"
   ]
  },
  {
   "cell_type": "markdown",
   "metadata": {
    "id": "Yh5XvOprFkkF"
   },
   "source": [
    "##Testing"
   ]
  },
  {
   "cell_type": "code",
   "execution_count": null,
   "metadata": {
    "id": "-9rR4l1sFYBV"
   },
   "outputs": [],
   "source": [
    "# TestImage = cv.imread(\"/content/drive/MyDrive/AI Proj/face recognition 2/Faces/Akshay Kumar_13.jpg\")\n",
    "ij = r\"face recognition 2/Faces/Akshay Kumar_13.jpg\"\n",
    "TestImage = cv.imread(ij)\n",
    "\n",
    "TestImage = cv.cvtColor(TestImage, cv.COLOR_BGR2RGB)\n",
    "i, j, k, l = imageDetector.detect_faces(TestImage)[0]['box']"
   ]
  },
  {
   "cell_type": "code",
   "execution_count": null,
   "metadata": {
    "id": "UG7bPgwXHua5"
   },
   "outputs": [],
   "source": [
    "TestImage = TestImage[j:j+l, i:i+k]\n",
    "TestImage = cv.resize(TestImage, (160,160)) \n",
    "TestImageEmbedding = getEmbedding(TestImage)\n"
   ]
  },
  {
   "cell_type": "code",
   "execution_count": 42,
   "metadata": {
    "id": "u1P0QNzxIvb8"
   },
   "outputs": [],
   "source": [
    "TestImageEmbedding = [TestImageEmbedding]\n",
    "YPredict = model.predict(TestImageEmbedding)"
   ]
  },
  {
   "cell_type": "code",
   "execution_count": null,
   "metadata": {
    "id": "LGAMmgsuJhO3"
   },
   "outputs": [],
   "source": [
    "YPredict"
   ]
  },
  {
   "cell_type": "code",
   "execution_count": null,
   "metadata": {
    "id": "bwgwLsgNJjHc"
   },
   "outputs": [],
   "source": [
    "encodingLabels.inverse_transform(YPredict)"
   ]
  },
  {
   "cell_type": "code",
   "execution_count": 45,
   "metadata": {
    "id": "AoOaJ8vcJ2kL"
   },
   "outputs": [],
   "source": [
    "#saving this svm model\n",
    "import pickle\n",
    "\n",
    "with open('SVM_Model(160x160).pkl','wb') as f:\n",
    "    pickle.dump(model,f)"
   ]
  }
 ],
 "metadata": {
  "accelerator": "GPU",
  "colab": {
   "provenance": []
  },
  "gpuClass": "standard",
  "kernelspec": {
   "display_name": "Python 3 (ipykernel)",
   "language": "python",
   "name": "python3"
  },
  "language_info": {
   "codemirror_mode": {
    "name": "ipython",
    "version": 3
   },
   "file_extension": ".py",
   "mimetype": "text/x-python",
   "name": "python",
   "nbconvert_exporter": "python",
   "pygments_lexer": "ipython3",
   "version": "3.10.10"
  }
 },
 "nbformat": 4,
 "nbformat_minor": 1
}
